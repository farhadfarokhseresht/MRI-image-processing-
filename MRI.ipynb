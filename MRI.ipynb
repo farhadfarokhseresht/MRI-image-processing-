{
  "nbformat": 4,
  "nbformat_minor": 0,
  "metadata": {
    "colab": {
      "name": "MRI.ipynb",
      "provenance": [],
      "collapsed_sections": [
        "zrt8meEyTa8S"
      ],
      "toc_visible": true,
      "authorship_tag": "ABX9TyOxDUlaiVIXiFsKpPvfTMk2",
      "include_colab_link": true
    },
    "kernelspec": {
      "display_name": "Python 3",
      "name": "python3"
    }
  },
  "cells": [
    {
      "cell_type": "markdown",
      "metadata": {
        "id": "view-in-github",
        "colab_type": "text"
      },
      "source": [
        "<a href=\"https://colab.research.google.com/github/farhadfarokhseresht/MRI-image-processing-python/blob/main/MRI.ipynb\" target=\"_parent\"><img src=\"https://colab.research.google.com/assets/colab-badge.svg\" alt=\"Open In Colab\"/></a>"
      ]
    },
    {
      "cell_type": "code",
      "metadata": {
        "id": "9KLMGdXDOWZj"
      },
      "source": [
        "!pip install pydicom\r\n",
        "!pip install pypng\r\n",
        "import pydicom as dicom\r\n",
        "import matplotlib.pylab as plt\r\n",
        "import glob\r\n",
        "import cv2\r\n",
        "import numpy as np\r\n",
        "import pandas as pd\r\n",
        "import re\r\n",
        "import os\r\n",
        "import png\r\n",
        "from google.colab.patches import cv2_imshow\r\n",
        "import math\r\n",
        "from scipy import ndimage\r\n",
        "from skimage.color import rgb2gray\r\n",
        "from PIL import Image \r\n",
        "from skimage.color import rgb2gray\r\n",
        "import skimage.segmentation as seg\r\n"
      ],
      "execution_count": null,
      "outputs": []
    },
    {
      "cell_type": "code",
      "metadata": {
        "colab": {
          "base_uri": "https://localhost:8080/"
        },
        "id": "VGc9M44ylTua",
        "outputId": "b33661b7-9e61-4c80-cf52-9e76368ff826"
      },
      "source": [
        "from google.colab import drive\r\n",
        "drive.mount('/content/drive')"
      ],
      "execution_count": null,
      "outputs": [
        {
          "output_type": "stream",
          "text": [
            "Mounted at /content/drive\n"
          ],
          "name": "stdout"
        }
      ]
    },
    {
      "cell_type": "markdown",
      "metadata": {
        "id": "B_GWFJ1AmVQv"
      },
      "source": [
        "#import  data"
      ]
    },
    {
      "cell_type": "code",
      "metadata": {
        "id": "pLGEtfaBmUX3"
      },
      "source": [
        "from zipfile import ZipFile\r\n",
        "with ZipFile(\"/content/drive/MyDrive/IBMB Dataset.zip\",\"r\") as zipobj:\r\n",
        "  zipobj.extractall()"
      ],
      "execution_count": null,
      "outputs": []
    },
    {
      "cell_type": "code",
      "metadata": {
        "id": "Fy0zQTMZKGQS"
      },
      "source": [
        "IBMB_df = pd.read_excel('/content/drive/MyDrive/IBMB Dataset.xlsx',index_col=\"Patient's Name\")  "
      ],
      "execution_count": null,
      "outputs": []
    },
    {
      "cell_type": "markdown",
      "metadata": {
        "id": "7tqSxM7HhBZS"
      },
      "source": [
        "{\"Patientname\": [mri dir path] }"
      ]
    },
    {
      "cell_type": "code",
      "metadata": {
        "id": "LnhwnVqVyQ9T"
      },
      "source": [
        "#{\"Patientname\": [mri dir path] }\r\n",
        "dir1 = os.listdir('/content/IBMB Dataset') # folder name list \r\n",
        "mri_data_dir = {}\r\n",
        "for d1 in dir1:\r\n",
        "  dirpath = \"/content/IBMB Dataset/\" + d1 \r\n",
        "  dir2 = os.listdir(dirpath) # Patient's Name \r\n",
        "  Patientname = int(re.findall(r'\\d+',dir2[0])[0])\r\n",
        "  dir3 = os.listdir(dirpath + \"/\" + dir2[0]) # 1 folder in  Patient's Name Series 13-t2_tirm_tra_dark-fluid\r\n",
        "  dirpath = dirpath + \"/\" + dir2[0]\r\n",
        "  dir4 = os.listdir(dirpath + \"/\" + dir3[0]) # mri_data\r\n",
        "  dirpath = dirpath + \"/\" + dir3[0]\r\n",
        "  mri_dirs = []\r\n",
        "  for imgname in dir4 :\r\n",
        "    mri_dirs.append(dirpath+\"/\"+imgname)\r\n",
        "  mri_data_dir[Patientname] = mri_dirs"
      ],
      "execution_count": null,
      "outputs": []
    },
    {
      "cell_type": "code",
      "metadata": {
        "id": "_DwN2aDrcWmQ"
      },
      "source": [
        "def create_circular_mask(h, w, center=None, radius=None):\r\n",
        "    xx=1\r\n",
        "    yy=h/w\r\n",
        "    if center is None: # use the middle of the image\r\n",
        "        center = (int(w/2), int(h/2))\r\n",
        "    if radius is None: # use the smallest distance between the center and image walls\r\n",
        "        radius = min(center[0], center[1], w-center[0], h-center[1])\r\n",
        "\r\n",
        "    Y, X = np.ogrid[:h, :w]\r\n",
        "    dist_from_center = np.sqrt(    ((X - center[0])**2)/xx + ((Y-center[1])**2)/yy     )\r\n",
        "\r\n",
        "    mask = dist_from_center <= radius\r\n",
        "    return mask"
      ],
      "execution_count": null,
      "outputs": []
    },
    {
      "cell_type": "markdown",
      "metadata": {
        "id": "TKKPwc_shbPa"
      },
      "source": [
        "convert to png "
      ]
    },
    {
      "cell_type": "code",
      "metadata": {
        "id": "MFpyqzKzDfwO"
      },
      "source": [
        "os.mkdir(\"/content/IBMBDATA\")\r\n",
        "IBMBDATA = {}\r\n",
        "for pid in mri_data_dir.keys():\r\n",
        "  os.mkdir(\"/content/IBMBDATA/\"+str(pid))\r\n",
        "  p_dir = []\r\n",
        "  for dcm_dir in mri_data_dir[pid]:\r\n",
        "    ds = dicom.dcmread(dcm_dir)\r\n",
        "    sl_num = int(ds.InstanceNumber)\r\n",
        "    if 11 <= sl_num <= 13 :\r\n",
        "      shape = ds.pixel_array.shape\r\n",
        "      # Convert to float to avoid overflow or underflow losses.\r\n",
        "      image_2d = ds.pixel_array.astype(float)\r\n",
        "      # Rescaling grey scale between 0-255\r\n",
        "      image_2d_scaled = (np.maximum(image_2d,0) / image_2d.max()) * 255.0\r\n",
        "      # Convert to uint\r\n",
        "      image_2d_scaled = np.uint8(image_2d_scaled)\r\n",
        "      # Write the PNG file\r\n",
        "      file_dir_name = \"/content/IBMBDATA/\"+str(pid)+\"/\"+str(sl_num)+\".png\"\r\n",
        "      with open(file_dir_name,'wb') as png_file:\r\n",
        "        w = png.Writer(shape[1], shape[0], greyscale=True)\r\n",
        "        w.write(png_file, image_2d_scaled)\r\n",
        "      p_dir.append(file_dir_name)\r\n",
        "  IBMBDATA[pid] = p_dir"
      ],
      "execution_count": null,
      "outputs": []
    },
    {
      "cell_type": "markdown",
      "metadata": {
        "id": "NfQ7ak3IhgOL"
      },
      "source": [
        "add hight and whight of brain to IBMB data frame "
      ]
    },
    {
      "cell_type": "code",
      "metadata": {
        "id": "KG1cP2zMoDmZ"
      },
      "source": [
        "hi = []\r\n",
        "wh = []\r\n",
        "for indx in IBMB_df.index :\r\n",
        "  h=[]\r\n",
        "  w = []\r\n",
        "  for pic in IBMBDATA[indx]:\r\n",
        "    image = cv2.imread(pic,0)\r\n",
        "    blur  = cv2.GaussianBlur(image,(11,11),5)\r\n",
        "    ret, thresh1 = cv2.threshold(blur ,100, 255, cv2.THRESH_BINARY) \r\n",
        "    loc = ndimage.find_objects(thresh1 == 255)[0]\r\n",
        "    new = image[loc]\r\n",
        "    h.append(new.shape[0])\r\n",
        "    w.append(new.shape[1])\r\n",
        "  hi.append(np.mean(h))\r\n",
        "  wh.append(np.mean(w))\r\n",
        "\r\n",
        "IBMB_df[\"hi\"] = hi\r\n",
        "IBMB_df[\"wh\"] = wh"
      ],
      "execution_count": null,
      "outputs": []
    },
    {
      "cell_type": "code",
      "metadata": {
        "id": "3mvsD-gXfClB"
      },
      "source": [
        "for pid in IBMBDATA.keys() :\r\n",
        "  for dcmim in IBMBDATA[pid] :\r\n",
        "    image = cv2.imread(dcmim,0)\r\n",
        "    blur  = cv2.GaussianBlur(image,(11,11),5)\r\n",
        "    ret, thresh1 = cv2.threshold(blur ,100, 255, cv2.THRESH_BINARY) \r\n",
        "    loc = ndimage.find_objects(thresh1 == 255)[0]\r\n",
        "    new = image[loc]\r\n",
        "    h,w= new.shape\r\n",
        "    mask = create_circular_mask(h,w)*new\r\n",
        "    cv2.imwrite(dcmim,mask)"
      ],
      "execution_count": null,
      "outputs": []
    },
    {
      "cell_type": "markdown",
      "metadata": {
        "id": "pe28S3YFi7EW"
      },
      "source": [
        "functions for extract information from images\r\n"
      ]
    },
    {
      "cell_type": "code",
      "metadata": {
        "id": "taTi2yuS3crB"
      },
      "source": [
        "def neighbors(a,radius, rowNumber, columnNumber):\r\n",
        "     return [[a[i][j] if  i >= 0 and i < len(a) and j >= 0 and j < len(a[0]) else 0\r\n",
        "                for j in range(columnNumber-1-radius, columnNumber+radius)]\r\n",
        "                    for i in range(rowNumber-1-radius, rowNumber+radius)]\r\n",
        "\r\n",
        "def neighbors_dep(image2,dep):\r\n",
        "  locpix = np.where(image2>0)\r\n",
        "  pixCon = {}\r\n",
        "  dep = dep\r\n",
        "  for c in range(len(locpix[0])):\r\n",
        "    locpix_ij = [locpix[0][c],locpix[1][c]]\r\n",
        "    neb = neighbors(image2,dep,locpix_ij[0],locpix_ij[1])\r\n",
        "    cont = 0\r\n",
        "    for ni in neb:\r\n",
        "      for nj in ni:\r\n",
        "        if nj > 0 :\r\n",
        "          cont = cont+1\r\n",
        "    pixCon[(locpix_ij[0],locpix_ij[1])] = cont\r\n",
        "  zimg = np.zeros((image2.shape[0],image2.shape[1]))\r\n",
        "  for c in range(len(locpix[0])):\r\n",
        "    locpix_ij = [locpix[0][c],locpix[1][c]]\r\n",
        "    zimg[locpix[0][c],locpix[1][c]] = pixCon[(locpix_ij[0],locpix_ij[1])] \r\n",
        "  out = len(np.where(zimg==np.max(zimg))[0])\r\n",
        "  #plt.imshow(zimg, cmap='gray')\r\n",
        "  return({\"out\":out}) #,\"zimg\":zimg"
      ],
      "execution_count": null,
      "outputs": []
    },
    {
      "cell_type": "code",
      "metadata": {
        "id": "-AEbMZYGm45v"
      },
      "source": [
        "from skimage.color import rgb2gray\r\n",
        "def info (dir):\r\n",
        "  image = cv2.imread(dir)\r\n",
        "  blur  = cv2.GaussianBlur(image,(11,11),5)\r\n",
        "  ret, thresh1 = cv2.threshold(blur ,75, 255, cv2.THRESH_BINARY) \r\n",
        "  gray = rgb2gray(thresh1)\r\n",
        "  image = rgb2gray(image)\r\n",
        "  gray_r = gray.reshape(gray.shape[0]*gray.shape[1])\r\n",
        "  image = image.reshape(image.shape[0]*image.shape[1])\r\n",
        "  for i in range(gray_r.shape[0]):\r\n",
        "    if gray_r[i] != 0  :\r\n",
        "      image[i] = image[i]\r\n",
        "    else:\r\n",
        "      image[i] = np.nan    \r\n",
        "  image = image.reshape(gray.shape[0],gray.shape[1])\r\n",
        "  gray = rgb2gray(image)\r\n",
        "  gray_r = gray.reshape(gray.shape[0]*gray.shape[1])\r\n",
        "  Q1 = np.nanquantile(gray_r,.25)\r\n",
        "  Q3 = np.nanquantile(gray_r,.90)\r\n",
        "  lower = Q1*1.5\r\n",
        "  upper = Q3*1.5\r\n",
        "  #con = 0\r\n",
        "  for i in range(gray_r.shape[0]):\r\n",
        "    if (gray_r[i] <= lower) | (gray_r[i] >= upper)  :  #(gray_r[i] <=l) | (gray_r[i] >= u)\r\n",
        "      gray_r[i] = np.nan\r\n",
        "    else:\r\n",
        "      #con = con +1\r\n",
        "      gray_r[i] = gray_r[i]\r\n",
        "  con   = sum(gray_r>0)\r\n",
        "  image2 = gray_r.reshape(gray.shape[0],gray.shape[1])\r\n",
        "  trakom = neighbors_dep(image2,1)[\"out\"]\r\n",
        "  #zimg = neighbors_dep(image2,1)[\"zimg\"]\r\n",
        "  #zimg = zimg.reshape(zimg.shape[0]*zimg.shape[1])\r\n",
        "  mean_p = np.nanmean(image2)\r\n",
        "  dim = image2.shape\r\n",
        "  h,w = dim\r\n",
        "  y = 0 \r\n",
        "  x = int(round(w/2,0))\r\n",
        "  crop_img1 = image2[y:y+h,0:x]\r\n",
        "  crop_img2 = image2[y:y+h,x:x+w]\r\n",
        "  crop_img1 = crop_img1.reshape(crop_img1.shape[0]*crop_img1.shape[1])\r\n",
        "  crop_img2 = crop_img2.reshape(crop_img2.shape[0]*crop_img2.shape[1])\r\n",
        "  left_right = sum(crop_img1>0)-sum(crop_img2>0)\r\n",
        "  y = int(round(h/2,0))\r\n",
        "  x = 0 \r\n",
        "  crop_imgDOWN = image2[y:y+h,0:x+w]\r\n",
        "  crop_imgUP = image2[0:y,0:x+w]\r\n",
        "  crop_imgDOWN = crop_imgDOWN.reshape(crop_imgDOWN.shape[0]*crop_imgDOWN.shape[1])\r\n",
        "  crop_imgUP = crop_imgUP.reshape(crop_imgUP.shape[0]*crop_imgUP.shape[1])\r\n",
        "  up_down = sum(crop_imgUP>0)-sum(crop_imgDOWN>0)\r\n",
        "  lis = [con,mean_p,left_right,up_down,trakom]\r\n",
        "  return({\"lis\":lis}) #,\"zimg\":zimg"
      ],
      "execution_count": null,
      "outputs": []
    },
    {
      "cell_type": "code",
      "metadata": {
        "id": "kbvxQWOAmgwO",
        "colab": {
          "base_uri": "https://localhost:8080/"
        },
        "outputId": "9be49079-f872-43ce-c58e-dc49ced56a12"
      },
      "source": [
        "info(IBMBDATA[980503871101][1])"
      ],
      "execution_count": null,
      "outputs": [
        {
          "output_type": "execute_result",
          "data": {
            "text/plain": [
              "{'lis': [546, 0.742713495654672, 282, 292, 10]}"
            ]
          },
          "metadata": {
            "tags": []
          },
          "execution_count": 14
        }
      ]
    },
    {
      "cell_type": "code",
      "metadata": {
        "id": "sMaHCDMjz9ys"
      },
      "source": [
        "IBMB_df[IBMB_df['PVWM']==0]"
      ],
      "execution_count": null,
      "outputs": []
    },
    {
      "cell_type": "markdown",
      "metadata": {
        "id": "j_xSkvvASCmG"
      },
      "source": [
        "# pross"
      ]
    },
    {
      "cell_type": "code",
      "metadata": {
        "colab": {
          "base_uri": "https://localhost:8080/",
          "height": 798
        },
        "id": "0saYd2VVRj7s",
        "outputId": "c1144b3c-7a1a-4bd3-b7b1-ca7340d0292e"
      },
      "source": [
        "imdr = IBMBDATA[980502731101][1]#980502731101\r\n",
        "image = cv2.imread(imdr)\r\n",
        "cv2_imshow(image)\r\n",
        "blur  = cv2.GaussianBlur(image,(11,11),5)\r\n",
        "ret, thresh1 = cv2.threshold(blur ,75, 255, cv2.THRESH_BINARY) \r\n",
        "cv2_imshow(thresh1)\r\n",
        "gray = rgb2gray(thresh1)\r\n",
        "image = rgb2gray(image)\r\n",
        "gray_r = gray.reshape(gray.shape[0]*gray.shape[1])\r\n",
        "image = image.reshape(image.shape[0]*image.shape[1])\r\n",
        "for i in range(gray_r.shape[0]):\r\n",
        "  if gray_r[i] != 0  :\r\n",
        "    image[i] = image[i]\r\n",
        "  else:\r\n",
        "    image[i] = np.NaN\r\n",
        "image = image.reshape(gray.shape[0],gray.shape[1])\r\n",
        "plt.imshow(image, cmap='gray')\r\n"
      ],
      "execution_count": null,
      "outputs": [
        {
          "output_type": "display_data",
          "data": {
            "image/png": "[encoded data removed]",
            "text/plain": [
              "<PIL.Image.Image image mode=RGB size=188x256 at 0x7FFA2EC0D588>"
            ]
          },
          "metadata": {
            "tags": []
          }
        },
        {
          "output_type": "display_data",
          "data": {
            "image/png": "[encoded data removed]",
            "text/plain": [
              "<PIL.Image.Image image mode=RGB size=188x256 at 0x7FFA2EC0D630>"
            ]
          },
          "metadata": {
            "tags": []
          }
        },
        {
          "output_type": "execute_result",
          "data": {
            "text/plain": [
              "<matplotlib.image.AxesImage at 0x7ffa2eb36198>"
            ]
          },
          "metadata": {
            "tags": []
          },
          "execution_count": 13
        },
        {
          "output_type": "display_data",
          "data": {
            "image/png": "[encoded data removed]",
            "text/plain": [
              "<Figure size 432x288 with 1 Axes>"
            ]
          },
          "metadata": {
            "tags": [],
            "needs_background": "light"
          }
        }
      ]
    },
    {
      "cell_type": "code",
      "metadata": {
        "id": "QQDODf9tZt39",
        "colab": {
          "base_uri": "https://localhost:8080/",
          "height": 322
        },
        "outputId": "cc49184a-6d02-41cf-84b5-59f000698001"
      },
      "source": [
        "gray = image.copy() #rgb2gray()\r\n",
        "gray_r = gray.reshape(gray.shape[0]*gray.shape[1])\r\n",
        "con = 0\r\n",
        "Q1 = np.nanquantile(gray_r,.25)\r\n",
        "Q3 = np.nanquantile(gray_r,.90)\r\n",
        "lower = Q1*1.5\r\n",
        "upper = Q3*1.5\r\n",
        "for i in range(gray_r.shape[0]):\r\n",
        "  if (gray_r[i] < lower) or (gray_r[i] > upper)  :  #(gray_r[i] <=l) | (gray_r[i] >= u)\r\n",
        "    gray_r[i] =  np.NaN # gray_r[i]\r\n",
        "  else:\r\n",
        "    gray_r[i] = gray_r[i]\r\n",
        "con   = sum(gray_r>0)\r\n",
        "print(con)\r\n",
        "print(np.nanmean(gray_r))\r\n",
        "image2 = gray_r.reshape(gray.shape[0],gray.shape[1])\r\n",
        "plt.imshow(image2, cmap='gray')\r\n"
      ],
      "execution_count": null,
      "outputs": [
        {
          "output_type": "stream",
          "text": [
            "1853\n",
            "0.7854755933674064\n"
          ],
          "name": "stdout"
        },
        {
          "output_type": "execute_result",
          "data": {
            "text/plain": [
              "<matplotlib.image.AxesImage at 0x7ffa2e67aac8>"
            ]
          },
          "metadata": {
            "tags": []
          },
          "execution_count": 14
        },
        {
          "output_type": "display_data",
          "data": {
            "image/png": "[encoded data removed]",
            "text/plain": [
              "<Figure size 432x288 with 1 Axes>"
            ]
          },
          "metadata": {
            "tags": [],
            "needs_background": "light"
          }
        }
      ]
    },
    {
      "cell_type": "code",
      "metadata": {
        "id": "seFx0zJHrSzD"
      },
      "source": [
        "a = np.array([[0,5,0,0,0],\r\n",
        "              [0,0,2,0,0],\r\n",
        "              [0,0,0,0,0],\r\n",
        "              [0,0,0,0,0],\r\n",
        "              ])\r\n",
        "neighbors(a,2,1,1)"
      ],
      "execution_count": null,
      "outputs": []
    },
    {
      "cell_type": "code",
      "metadata": {
        "id": "irQvxQTiablO"
      },
      "source": [
        "def neighbors(a,radius, rowNumber, columnNumber):\r\n",
        "     return [[a[i][j] if  i >= 0 and i < len(a) and j >= 0 and j < len(a[0]) else 0\r\n",
        "                for j in range(columnNumber-1-radius, columnNumber+radius)]\r\n",
        "                    for i in range(rowNumber-1-radius, rowNumber+radius)]\r\n",
        "\r\n",
        "def neighbors_dep(image2,dep):\r\n",
        "  locpix = np.where(image2>0)\r\n",
        "  pixCon = {}\r\n",
        "  dep = dep\r\n",
        "  for c in range(len(locpix[0])):\r\n",
        "    locpix_ij = [locpix[0][c],locpix[1][c]]\r\n",
        "    neb = neighbors(image2,dep,locpix_ij[0],locpix_ij[1])\r\n",
        "    cont = 0\r\n",
        "    for ni in neb:\r\n",
        "      for nj in ni:\r\n",
        "        if nj > 0 :\r\n",
        "          cont = cont+1\r\n",
        "    pixCon[(locpix_ij[0],locpix_ij[1])] = cont\r\n",
        "  zimg = np.zeros((image2.shape[0],image2.shape[1]))\r\n",
        "  for c in range(len(locpix[0])):\r\n",
        "    locpix_ij = [locpix[0][c],locpix[1][c]]\r\n",
        "    zimg[locpix[0][c],locpix[1][c]] = pixCon[(locpix_ij[0],locpix_ij[1])] \r\n",
        "  out = len(np.where(zimg==np.max(zimg))[0])\r\n",
        "  plt.imshow(zimg, cmap='gray')\r\n",
        "  return({\"out\":out,\"zimg\":zimg})"
      ],
      "execution_count": null,
      "outputs": []
    },
    {
      "cell_type": "code",
      "metadata": {
        "colab": {
          "base_uri": "https://localhost:8080/",
          "height": 286
        },
        "id": "Vqtn_PrYqp61",
        "outputId": "ef50ef45-7500-481f-fe67-aa1b9fb45ae3"
      },
      "source": [
        "neighbors_dep(image2,1)[\"out\"]"
      ],
      "execution_count": null,
      "outputs": [
        {
          "output_type": "execute_result",
          "data": {
            "text/plain": [
              "1021"
            ]
          },
          "metadata": {
            "tags": []
          },
          "execution_count": 20
        },
        {
          "output_type": "display_data",
          "data": {
            "image/png": "[encoded data removed]",
            "text/plain": [
              "<Figure size 432x288 with 1 Axes>"
            ]
          },
          "metadata": {
            "tags": [],
            "needs_background": "light"
          }
        }
      ]
    },
    {
      "cell_type": "markdown",
      "metadata": {
        "id": "7YgPTwjtWU-i"
      },
      "source": [
        "#update data set"
      ]
    },
    {
      "cell_type": "code",
      "metadata": {
        "id": "WPimef0ViIos"
      },
      "source": [
        "#con,mean_p,left_right,up_down\r\n",
        "wm_pix_count1 = []\r\n",
        "wm_pix_count2 = []\r\n",
        "wm_pix_count3 = []\r\n",
        "num_pix_incon1 = []\r\n",
        "num_pix_incon2 = []\r\n",
        "num_pix_incon3 = []\r\n",
        "up_down = []\r\n",
        "left_right = []\r\n",
        "#mean_p = []\r\n",
        "dep_df = {}\r\n",
        "for indx in IBMB_df.index :\r\n",
        "  u_d = []\r\n",
        "  l_r = []\r\n",
        "  #m_p = []\r\n",
        "  #countl1 = []\r\n",
        "  #countl2 = []\r\n",
        "  #countl3 = []\r\n",
        "  for pic in IBMBDATA[indx]:\r\n",
        "    print(pic)\r\n",
        "    #m_p.append(info(pic)[\"lis\"][1])\r\n",
        "    l_r.append(info(pic)[\"lis\"][2])\r\n",
        "    u_d.append(info(pic)[\"lis\"][3])\r\n",
        "  wm_pix_count1.append(info(IBMBDATA[indx][0])[\"lis\"][0])\r\n",
        "  wm_pix_count2.append(info(IBMBDATA[indx][1])[\"lis\"][0])\r\n",
        "  wm_pix_count3.append(info(IBMBDATA[indx][2])[\"lis\"][0])\r\n",
        "  num_pix_incon1.append(info(IBMBDATA[indx][0])[\"lis\"][4])\r\n",
        "  num_pix_incon2.append(info(IBMBDATA[indx][1])[\"lis\"][4])\r\n",
        "  num_pix_incon3.append(info(IBMBDATA[indx][2])[\"lis\"][4])\r\n",
        "  #mean_p.append(np.mean(m_p))\r\n",
        "  up_down.append(np.mean(u_d))\r\n",
        "  left_right.append(np.mean(l_r))\r\n",
        "  #dep_df[indx] = info(IBMBDATA[indx][1])[\"zimg\"]\r\n",
        "\r\n",
        "IBMB_df[\"wm_pix_count1\"] = wm_pix_count1\r\n",
        "IBMB_df[\"wm_pix_count2\"] = wm_pix_count2\r\n",
        "IBMB_df[\"wm_pix_count3\"] = wm_pix_count3\r\n",
        "#IBMB_df[\"mean_p\"] = mean_p\r\n",
        "IBMB_df[\"up_down\"] = up_down\r\n",
        "IBMB_df[\"left_right\"] = left_right\r\n",
        "IBMB_df[\"num_pix_incon1\"] = num_pix_incon1\r\n",
        "IBMB_df[\"num_pix_incon2\"] = num_pix_incon2\r\n",
        "IBMB_df[\"num_pix_incon3\"] = num_pix_incon3"
      ],
      "execution_count": null,
      "outputs": []
    },
    {
      "cell_type": "code",
      "metadata": {
        "id": "Ug7cLUfFD8nr"
      },
      "source": [
        "IBMB_df.describe()"
      ],
      "execution_count": null,
      "outputs": []
    },
    {
      "cell_type": "code",
      "metadata": {
        "id": "ci2IDaIg89EQ"
      },
      "source": [
        "df = IBMB_df.copy()"
      ],
      "execution_count": null,
      "outputs": []
    },
    {
      "cell_type": "markdown",
      "metadata": {
        "id": "PE17Uq4u9KYm"
      },
      "source": [
        "###catgori"
      ]
    },
    {
      "cell_type": "code",
      "metadata": {
        "id": "Gz26AW7FqupN"
      },
      "source": [
        "\r\n",
        "Q1 = np.nanquantile(df['mean_p'],.25)\r\n",
        "Q3 = np.nanquantile(df['mean_p'],.75)\r\n",
        "lower = Q1*1.5\r\n",
        "upper = Q3*1.5\r\n",
        "mean = np.mean(df['mean_p'])\r\n",
        "for idx in df.index:\r\n",
        "  x = df['mean_p'][df.index == idx]\r\n",
        "  x = list(x)[0]\r\n",
        "  if x < lower :\r\n",
        "    df['mean_p'][df.index== idx] =  0\r\n",
        "  elif lower <= x <= mean :\r\n",
        "    df['mean_p'][df.index== idx] =  1\r\n",
        "  elif mean < x <= upper :\r\n",
        "    df['mean_p'][df.index== idx] =  2\r\n",
        "  elif  x >  upper :\r\n",
        "    df['mean_p'][df.index== idx] =  4"
      ],
      "execution_count": null,
      "outputs": []
    },
    {
      "cell_type": "code",
      "metadata": {
        "id": "dyk2dwjyq42T"
      },
      "source": [
        "Q1 = np.nanquantile(df['up_down'],.25)\r\n",
        "Q3 = np.nanquantile(df['up_down'],.75)\r\n",
        "lower = Q1*1.5\r\n",
        "upper = Q3*1.5\r\n",
        "mean = np.mean(df['up_down'])\r\n",
        "for idx in df.index:\r\n",
        "  x = df['up_down'][df.index == idx]\r\n",
        "  x = list(x)[0]\r\n",
        "  if x < lower :\r\n",
        "    df['up_down'][df.index== idx] =  0\r\n",
        "  elif lower <= x <= mean :\r\n",
        "    df['up_down'][df.index== idx] =  1\r\n",
        "  elif mean < x <= upper :\r\n",
        "    df['up_down'][df.index== idx] =  2\r\n",
        "  elif  x >  upper :\r\n",
        "    df['up_down'][df.index== idx] =  4"
      ],
      "execution_count": null,
      "outputs": []
    },
    {
      "cell_type": "code",
      "metadata": {
        "id": "bsH1GbmXrMfy"
      },
      "source": [
        "\r\n",
        "Q1 = np.nanquantile(df['left_right'],.25)\r\n",
        "Q3 = np.nanquantile(df['left_right'],.75)\r\n",
        "lower = Q1*1.5\r\n",
        "upper = Q3*1.5\r\n",
        "mean = np.mean(df['left_right'])\r\n",
        "for idx in df.index:\r\n",
        "  x = df['left_right'][df.index == idx]\r\n",
        "  x = list(x)[0]\r\n",
        "  if x < lower :\r\n",
        "    df['left_right'][df.index== idx] =  0\r\n",
        "  elif lower <= x <= mean :\r\n",
        "    df['left_right'][df.index== idx] =  1\r\n",
        "  elif mean < x <= upper :\r\n",
        "    df['left_right'][df.index== idx] =  2\r\n",
        "  elif  x >  upper :\r\n",
        "    df['left_right'][df.index== idx] =  4"
      ],
      "execution_count": null,
      "outputs": []
    },
    {
      "cell_type": "code",
      "metadata": {
        "id": "xzb9TxPD_Iml"
      },
      "source": [
        "Q1 = np.nanquantile(df['countl1'],.25)\r\n",
        "Q3 = np.nanquantile(df['countl1'],.75)\r\n",
        "lower = Q1*1.5\r\n",
        "upper = Q3*1.5\r\n",
        "mean = np.mean(df['countl1'])\r\n",
        "for idx in df.index:\r\n",
        "  x = df['countl1'][df.index == idx]\r\n",
        "  x = list(x)[0]\r\n",
        "  if x < lower :\r\n",
        "    df['countl1'][df.index== idx] =  0\r\n",
        "  elif lower <= x <= mean :\r\n",
        "    df['countl1'][df.index== idx] =  1\r\n",
        "  elif mean < x <= upper :\r\n",
        "    df['countl1'][df.index== idx] =  2\r\n",
        "  elif  x >  upper :\r\n",
        "    df['countl1'][df.index== idx] =  4"
      ],
      "execution_count": null,
      "outputs": []
    },
    {
      "cell_type": "code",
      "metadata": {
        "id": "f7iezBxZ_sR7"
      },
      "source": [
        "Q1 = np.nanquantile(df['countl2'],.25)\r\n",
        "Q3 = np.nanquantile(df['countl2'],.75)\r\n",
        "lower = Q1*1.5\r\n",
        "upper = Q3*1.5\r\n",
        "mean = np.mean(df['countl2'])\r\n",
        "for idx in df.index:\r\n",
        "  x = df['countl2'][df.index == idx]\r\n",
        "  x = list(x)[0]\r\n",
        "  if x < lower :\r\n",
        "    df['countl2'][df.index== idx] =  0\r\n",
        "  elif lower <= x <= mean :\r\n",
        "    df['countl2'][df.index== idx] =  1\r\n",
        "  elif mean < x <= upper :\r\n",
        "    df['countl2'][df.index== idx] =  2\r\n",
        "  elif  x >  upper :\r\n",
        "    df['countl2'][df.index== idx] =  4"
      ],
      "execution_count": null,
      "outputs": []
    },
    {
      "cell_type": "code",
      "metadata": {
        "id": "cShSnhCD_sJT"
      },
      "source": [
        "Q1 = np.nanquantile(df['countl3'],.25)\r\n",
        "Q3 = np.nanquantile(df['countl3'],.75)\r\n",
        "lower = Q1*1.5\r\n",
        "upper = Q3*1.5\r\n",
        "mean = np.mean(df['countl3'])\r\n",
        "for idx in df.index:\r\n",
        "  x = df['countl3'][df.index == idx]\r\n",
        "  x = list(x)[0]\r\n",
        "  if x < lower :\r\n",
        "    df['countl3'][df.index== idx] =  0\r\n",
        "  elif lower <= x <= mean :\r\n",
        "    df['countl3'][df.index== idx] =  1\r\n",
        "  elif mean < x <= upper :\r\n",
        "    df['countl3'][df.index== idx] =  2\r\n",
        "  elif  x >  upper :\r\n",
        "    df['countl3'][df.index== idx] =  4"
      ],
      "execution_count": null,
      "outputs": []
    },
    {
      "cell_type": "code",
      "metadata": {
        "id": "CZgm_sovpRHV"
      },
      "source": [
        "df"
      ],
      "execution_count": null,
      "outputs": []
    },
    {
      "cell_type": "markdown",
      "metadata": {
        "id": "8M6O84M89R0m"
      },
      "source": [
        "##info"
      ]
    },
    {
      "cell_type": "code",
      "metadata": {
        "id": "Iqr8phbvMqBy"
      },
      "source": [
        "\r\n",
        "for x in df.index:\r\n",
        "  path = mri_data_dir[x][0]\r\n",
        "  ds = dicom.dcmread(path)\r\n",
        "  sl_num = int(ds.InstanceNumber)\r\n",
        "  page = ds.PatientAge.lower()\r\n",
        "  page = int(re.sub(r'[a-z]+', '', page, re.I) )\r\n",
        "  psex = ds.PatientSex\r\n",
        "  pweight = int(ds.PatientWeight)\r\n",
        "  df[\"Patient's Age\"][df.index==x] = page\r\n",
        "  df[\"Patient's Weight\"][df.index==x] = pweight\r\n",
        "  df[\"Patient's Sex\"][df.index==x] = psex\r\n",
        "\r\n"
      ],
      "execution_count": null,
      "outputs": []
    },
    {
      "cell_type": "code",
      "metadata": {
        "id": "btWo4cmZY-7v"
      },
      "source": [
        ""
      ],
      "execution_count": null,
      "outputs": []
    },
    {
      "cell_type": "code",
      "metadata": {
        "id": "IENOvxHna92G"
      },
      "source": [
        "df = df.fillna(method=\"ffill\")"
      ],
      "execution_count": null,
      "outputs": []
    },
    {
      "cell_type": "code",
      "metadata": {
        "id": "mXv3IZlfAUIF"
      },
      "source": [
        "df.to_excel(\"data.xlsx\")  "
      ],
      "execution_count": null,
      "outputs": []
    },
    {
      "cell_type": "markdown",
      "metadata": {
        "id": "A8h12FJshGhP"
      },
      "source": [
        "# Data Visualization Analysis\r\n"
      ]
    },
    {
      "cell_type": "code",
      "metadata": {
        "id": "xzuMkhhmjByi"
      },
      "source": [
        "import pandas as pd\r\n",
        "import numpy as np\r\n",
        "import seaborn as sns\r\n",
        "import matplotlib.pyplot as plt\r\n",
        "from matplotlib import cm\r\n",
        "import warnings\r\n",
        "warnings.filterwarnings(\"ignore\")"
      ],
      "execution_count": null,
      "outputs": []
    },
    {
      "cell_type": "code",
      "metadata": {
        "id": "-OWWUM7mhNrU"
      },
      "source": [
        "columns = df.keys()\r\n",
        "columns = list(columns)"
      ],
      "execution_count": null,
      "outputs": []
    },
    {
      "cell_type": "code",
      "metadata": {
        "id": "k6AymlAdY6dm"
      },
      "source": [
        "df0 = df[df['PVWM']==0]\r\n",
        "df1 = df[df['PVWM']==1]\r\n",
        "df2 = df[df['PVWM']==2]\r\n",
        "df3 = df[df['PVWM']==3]"
      ],
      "execution_count": null,
      "outputs": []
    },
    {
      "cell_type": "code",
      "metadata": {
        "id": "DiDvWvGJdVP9"
      },
      "source": [
        "df0.describe()"
      ],
      "execution_count": null,
      "outputs": []
    },
    {
      "cell_type": "code",
      "metadata": {
        "id": "a12C3vcTcku1"
      },
      "source": [
        "df1.describe()"
      ],
      "execution_count": null,
      "outputs": []
    },
    {
      "cell_type": "code",
      "metadata": {
        "id": "NzOtETBndybp"
      },
      "source": [
        "df2.describe()"
      ],
      "execution_count": null,
      "outputs": []
    },
    {
      "cell_type": "code",
      "metadata": {
        "id": "TtdgUt3qdVdK"
      },
      "source": [
        "df3.describe()"
      ],
      "execution_count": null,
      "outputs": []
    },
    {
      "cell_type": "code",
      "metadata": {
        "id": "wEt_HDMPjcMs"
      },
      "source": [
        "df.describe()"
      ],
      "execution_count": null,
      "outputs": []
    },
    {
      "cell_type": "code",
      "metadata": {
        "id": "ixe80EH2jwzC"
      },
      "source": [
        "corr = df.corr()\r\n",
        "plt.figure(figsize=(12,10), dpi= 80)\r\n",
        "sns.heatmap(corr, annot=True , fmt=\".2\" ,linewidths=.1)"
      ],
      "execution_count": null,
      "outputs": []
    },
    {
      "cell_type": "code",
      "metadata": {
        "id": "6VTgtHD-nFzq"
      },
      "source": [
        "pd.pivot_table(df, index='PVWM', columns=\"Patient's Sex\", aggfunc=np.mean)"
      ],
      "execution_count": null,
      "outputs": []
    },
    {
      "cell_type": "code",
      "metadata": {
        "id": "prU9ux_LoLNi"
      },
      "source": [
        "df.groupby(['PVWM']).agg({'left_right' : np.mean, 'up_down': np.mean  }).plot(kind='bar', figsize=(20,10), title='means ' ,cmap = 'cividis')\r\n"
      ],
      "execution_count": null,
      "outputs": []
    },
    {
      "cell_type": "code",
      "metadata": {
        "id": "WOkaMYYB3nq0"
      },
      "source": [
        "# Draw Stripplot\r\n",
        "sns.stripplot(df['PVWM'],df['countl2'])\r\n",
        "\r\n",
        "# Decorations\r\n",
        "plt.title('chest pain vs blood pressure', fontsize=15)\r\n",
        "plt.show()"
      ],
      "execution_count": null,
      "outputs": []
    },
    {
      "cell_type": "code",
      "metadata": {
        "id": "K4sCLalpkS-A"
      },
      "source": [
        "#print (df.groupby([\"Patient's Sex\", 'PVWM']).size().unstack())\r\n",
        "df.groupby([\"Patient's Sex\", 'PVWM']).size().unstack().plot(kind='bar', figsize=(20,10), title='Patients Sex_PVWM histogram' ,cmap = 'cividis')"
      ],
      "execution_count": null,
      "outputs": []
    },
    {
      "cell_type": "code",
      "metadata": {
        "id": "H8TWm4H7lqiW"
      },
      "source": [
        "df.groupby([\"sliseid\", 'PVWM']).size().unstack().plot(kind='bar', figsize=(20,10), title='Patients Sex_PVWM histogram' ,cmap = 'cividis')"
      ],
      "execution_count": null,
      "outputs": []
    },
    {
      "cell_type": "code",
      "metadata": {
        "id": "_p91aEL-xd8H"
      },
      "source": [
        "plt.figure(figsize=(20,10))\r\n",
        "sns.scatterplot(x=\"mean_p\", y=\"up_down\", size=\"countl2\",\r\n",
        "                palette=\"ch:r=-.2 , d=.3\",\r\n",
        "                hue=\"PVWM\",\r\n",
        "                sizes=(200,100), linewidth=1,edgecolor='k',data=df)\r\n"
      ],
      "execution_count": null,
      "outputs": []
    },
    {
      "cell_type": "code",
      "metadata": {
        "id": "tNEuRFg7x98q"
      },
      "source": [
        "ax = sns.boxplot(x=\"Patient's Sex\", y=\"up_down\", data=df)\r\n",
        "ax = sns.swarmplot(x=\"Patient's Sex\", y=\"up_down\", data=df, color=\".2\")"
      ],
      "execution_count": null,
      "outputs": []
    },
    {
      "cell_type": "code",
      "metadata": {
        "id": "-5XsTM2H2K3_"
      },
      "source": [
        "plt.figure(figsize=(100,0), dpi= 150)\r\n",
        "sns.pairplot(df,vars = [ \"Patient's Age\" , \"Patient's Weight\", \"left_mean\"],  kind=\"reg\", hue=\"PVWM\")\r\n",
        "plt.show()"
      ],
      "execution_count": null,
      "outputs": []
    },
    {
      "cell_type": "code",
      "metadata": {
        "id": "NKtmPNzb29FF"
      },
      "source": [
        "sns.pairplot(df,\r\n",
        "             vars = [ \"right_mean\" , \"Patient's Weight\", \"left_mean\"],\r\n",
        "             kind=\"scatter\", hue=\"Patient's Sex\",\r\n",
        "             plot_kws=dict(s=80, edgecolor=\"blue\", linewidth=.75))"
      ],
      "execution_count": null,
      "outputs": []
    },
    {
      "cell_type": "code",
      "metadata": {
        "id": "EHCAZ4TS3yB5"
      },
      "source": [
        "sns.jointplot(x=df[\"Patient's Weight\"], y=df['mean_p'], kind='hex')"
      ],
      "execution_count": null,
      "outputs": []
    },
    {
      "cell_type": "markdown",
      "metadata": {
        "id": "vGbV6GhPDi_4"
      },
      "source": [
        "#model"
      ]
    },
    {
      "cell_type": "code",
      "metadata": {
        "id": "Zrn4IrBWQeBr"
      },
      "source": [
        "df = pd.read_excel (\"/content/data.xlsx\")"
      ],
      "execution_count": null,
      "outputs": []
    },
    {
      "cell_type": "code",
      "metadata": {
        "id": "Y9RyXq7qdW0i"
      },
      "source": [
        "from sklearn.preprocessing import LabelEncoder\r\n",
        "label_encoder = LabelEncoder()\r\n",
        "x = df[\"Patient's Sex\"]\r\n",
        "df[\"Patient's Sex\"] = label_encoder.fit_transform(x)"
      ],
      "execution_count": null,
      "outputs": []
    },
    {
      "cell_type": "code",
      "metadata": {
        "id": "-8p4EDaTcU5d"
      },
      "source": [
        "df.reset_index(drop=True, inplace=True)"
      ],
      "execution_count": null,
      "outputs": []
    },
    {
      "cell_type": "code",
      "metadata": {
        "id": "udGx0mbwMvEG"
      },
      "source": [
        "df"
      ],
      "execution_count": null,
      "outputs": []
    },
    {
      "cell_type": "code",
      "metadata": {
        "id": "BbC8tIKsk9IW"
      },
      "source": [
        "columns = df.keys()\r\n",
        "columns = list(columns)\r\n",
        "\r\n",
        "y = df[\"Patient's Sex\"]\r\n",
        "x = df[columns[1:]]\r\n",
        "\r\n",
        "from sklearn.model_selection import train_test_split\r\n",
        "x_train, x_test, y_train, y_test = train_test_split(x,y, test_size=0.3, random_state=42, stratify=y)\r\n"
      ],
      "execution_count": null,
      "outputs": []
    },
    {
      "cell_type": "code",
      "metadata": {
        "id": "pYAKeZByl2Hm"
      },
      "source": [
        "from sklearn.preprocessing import StandardScaler\r\n",
        "scaler = StandardScaler()\r\n",
        "scaler.fit(x_train)  # Don't cheat - fit only on training data\r\n",
        "x_train = scaler.transform(x_train)\r\n",
        "x_test = scaler.transform(x_test)  # apply same transformation to test data"
      ],
      "execution_count": null,
      "outputs": []
    },
    {
      "cell_type": "markdown",
      "metadata": {
        "id": "i_Qy7194oxvn"
      },
      "source": [
        "tree"
      ]
    },
    {
      "cell_type": "code",
      "metadata": {
        "colab": {
          "base_uri": "https://localhost:8080/"
        },
        "id": "mMhUENGjoxey",
        "outputId": "8cdd8013-7a8e-45b3-85ee-9281d0b8d540"
      },
      "source": [
        "from sklearn import tree\r\n",
        "clf = tree.DecisionTreeRegressor()  # tree.DecisionTreeRegressor() tree.DecisionTreeClassifier()\r\n",
        "clf = clf.fit(X, Y)\r\n",
        "y_pred = clf.fit(x_train,y_train).predict(x_test)\r\n",
        "from sklearn import metrics\r\n",
        "metrics.accuracy_score(y_test, y_pred )"
      ],
      "execution_count": null,
      "outputs": [
        {
          "output_type": "execute_result",
          "data": {
            "text/plain": [
              "0.6666666666666666"
            ]
          },
          "metadata": {
            "tags": []
          },
          "execution_count": 87
        }
      ]
    },
    {
      "cell_type": "markdown",
      "metadata": {
        "id": "JyhHe11qolpQ"
      },
      "source": [
        "GaussianNB"
      ]
    },
    {
      "cell_type": "code",
      "metadata": {
        "colab": {
          "base_uri": "https://localhost:8080/"
        },
        "id": "bVcUC0MVmf3V",
        "outputId": "23d4ae33-6573-452e-e1cf-9fb803d8d343"
      },
      "source": [
        "from sklearn.naive_bayes import GaussianNB\r\n",
        "gnb = GaussianNB()\r\n",
        "y_pred = gnb.fit(x_train,y_train).predict(x_test)\r\n",
        "from sklearn import metrics\r\n",
        "metrics.accuracy_score(y_test, y_pred )"
      ],
      "execution_count": null,
      "outputs": [
        {
          "output_type": "execute_result",
          "data": {
            "text/plain": [
              "0.717948717948718"
            ]
          },
          "metadata": {
            "tags": []
          },
          "execution_count": 88
        }
      ]
    },
    {
      "cell_type": "markdown",
      "metadata": {
        "id": "Zm-neGOSogXH"
      },
      "source": [
        "neighbors"
      ]
    },
    {
      "cell_type": "code",
      "metadata": {
        "colab": {
          "base_uri": "https://localhost:8080/"
        },
        "id": "6_IeZAikmjJC",
        "outputId": "b4fed87b-e339-4a5c-e7b9-2d84542ee87f"
      },
      "source": [
        "#weights = 'distance'  algorithm = 'kd_tree'  algorithm = 'brute' or 'ball_tree'\r\n",
        "from sklearn.neighbors import KNeighborsClassifier\r\n",
        "from sklearn.neighbors import NearestCentroid\r\n",
        "neighbors = np.arange(1,50)\r\n",
        "train_accuracy = np.empty(len(neighbors))\r\n",
        "test_accuracy = np.empty(len(neighbors))\r\n",
        "for i,k in enumerate(neighbors):\r\n",
        "  knn_model =  NearestCentroid() #KNeighborsClassifier(n_neighbors=k,p=2, algorithm = 'ball_tree')\r\n",
        "  knn_model.fit(x_train, y_train)\r\n",
        "  train_accuracy[i] = knn_model.score(x_train, y_train)\r\n",
        "  test_accuracy[i] = knn_model.score(x_test, y_test)\r\n",
        "plt.plot(neighbors, test_accuracy, label = 'Testing Accuracy')\r\n",
        "plt.plot(neighbors, train_accuracy, label = 'Training Accuracy')\r\n",
        "plt.legend()\r\n",
        "plt.xlabel('number of Neighbors')\r\n",
        "plt.ylabel('Accuracy')\r\n",
        "plt.show()"
      ],
      "execution_count": null,
      "outputs": [
        {
          "output_type": "display_data",
          "data": {
            "image/png": "[encoded data removed]",
            "text/plain": [
              "<Figure size 432x288 with 1 Axes>"
            ]
          },
          "metadata": {
            "tags": [],
            "needs_background": "light"
          }
        }
      ]
    },
    {
      "cell_type": "code",
      "metadata": {
        "colab": {
          "base_uri": "https://localhost:8080/"
        },
        "id": "nbiG7N0nny0i",
        "outputId": "7ac84aae-b25e-4d88-8f96-804f0a69254a"
      },
      "source": [
        "from sklearn.neighbors import (NeighborhoodComponentsAnalysis,KNeighborsClassifier)\r\n",
        "from sklearn.datasets import load_iris\r\n",
        "from sklearn.model_selection import train_test_split\r\n",
        "from sklearn.pipeline import Pipeline\r\n",
        "nca = NeighborhoodComponentsAnalysis(random_state=42)\r\n",
        "knn = KNeighborsClassifier(n_neighbors=3)\r\n",
        "nca_pipe = Pipeline([('nca', nca), ('knn', knn)])\r\n",
        "nca_pipe.fit(x_train, y_train)\r\n",
        "print(nca_pipe.score(x_test, y_test))"
      ],
      "execution_count": null,
      "outputs": [
        {
          "output_type": "stream",
          "text": [
            "0.6666666666666666\n"
          ],
          "name": "stdout"
        }
      ]
    },
    {
      "cell_type": "code",
      "metadata": {
        "id": "JT4x8WjUAbQr"
      },
      "source": [
        "X, Y = x_train , y_train\r\n",
        "x = x_test"
      ],
      "execution_count": null,
      "outputs": []
    },
    {
      "cell_type": "code",
      "metadata": {
        "id": "1Q4jMaH8of_Z"
      },
      "source": [
        ""
      ],
      "execution_count": null,
      "outputs": []
    },
    {
      "cell_type": "markdown",
      "metadata": {
        "id": "AGmlKJ9MrJT8"
      },
      "source": [
        "Neural network models "
      ]
    },
    {
      "cell_type": "code",
      "metadata": {
        "id": "Y3v_RAtISAWB"
      },
      "source": [
        "from sklearn.neural_network import MLPClassifier\r\n",
        "neighbors = np.arange(1,30)\r\n",
        "train_accuracy = np.empty(len(neighbors))\r\n",
        "test_accuracy = np.empty(len(neighbors))\r\n",
        "for i,k in enumerate(neighbors):\r\n",
        "  clf =  MLPClassifier(solver='lbfgs',alpha=1e-5, hidden_layer_sizes=(k,2), random_state=1,max_iter=1, warm_start=True)\r\n",
        "  clf = clf.fit(x_train, y_train)\r\n",
        "  train_accuracy[i] = clf.score(x_train, y_train)\r\n",
        "  test_accuracy[i] = clf.score(x_test, y_test)\r\n",
        "plt.plot(neighbors, test_accuracy, label = 'Testing Accuracy')\r\n",
        "plt.plot(neighbors, train_accuracy, label = 'Training Accuracy')\r\n",
        "plt.legend()\r\n",
        "plt.xlabel('number of Neighbors')\r\n",
        "plt.ylabel('Accuracy')\r\n",
        "plt.show()"
      ],
      "execution_count": null,
      "outputs": []
    },
    {
      "cell_type": "markdown",
      "metadata": {
        "id": "wbNxNod_hxOF"
      },
      "source": [
        "svm"
      ]
    },
    {
      "cell_type": "code",
      "metadata": {
        "colab": {
          "base_uri": "https://localhost:8080/"
        },
        "id": "8Wtz9Jww9clQ",
        "outputId": "d8ef65de-9d48-4168-dc61-a00107026184"
      },
      "source": [
        "from sklearn.pipeline import make_pipeline\r\n",
        "from sklearn.preprocessing import StandardScaler\r\n",
        "from sklearn.svm import SVC\r\n",
        "clf = make_pipeline(StandardScaler(), SVC())\r\n",
        "clf.fit(x_train, y_train)\r\n",
        "y_pred = clf.predict(x_test)\r\n",
        "from sklearn import metrics\r\n",
        "metrics.accuracy_score(y_test, y_pred )"
      ],
      "execution_count": null,
      "outputs": [
        {
          "output_type": "execute_result",
          "data": {
            "text/plain": [
              "0.7307692307692307"
            ]
          },
          "metadata": {
            "tags": []
          },
          "execution_count": 94
        }
      ]
    },
    {
      "cell_type": "code",
      "metadata": {
        "colab": {
          "base_uri": "https://localhost:8080/"
        },
        "id": "bRozy-_Yg1Ev",
        "outputId": "2cce19d1-e500-4e25-8e19-00dce0ad9a0b"
      },
      "source": [
        "from sklearn import svm\r\n",
        "clf = svm.SVC() # decision_function_shape='ovo' , \r\n",
        "clf.fit(x_train, y_train)\r\n",
        "y_pred = clf.predict(x_test)\r\n",
        "from sklearn import metrics\r\n",
        "metrics.accuracy_score(y_test, y_pred )"
      ],
      "execution_count": null,
      "outputs": [
        {
          "output_type": "execute_result",
          "data": {
            "text/plain": [
              "0.7307692307692307"
            ]
          },
          "metadata": {
            "tags": []
          },
          "execution_count": 96
        }
      ]
    },
    {
      "cell_type": "code",
      "metadata": {
        "colab": {
          "base_uri": "https://localhost:8080/"
        },
        "id": "D6rkaExDh_ef",
        "outputId": "aa08513d-1b9c-4123-85c5-ac6462e84782"
      },
      "source": [
        "from sklearn import svm\r\n",
        "clf = svm.LinearSVC() \r\n",
        "clf.fit(x_train, y_train)\r\n",
        "y_pred = clf.predict(x_test)\r\n",
        "from sklearn import metrics\r\n",
        "metrics.accuracy_score(y_test, y_pred )"
      ],
      "execution_count": null,
      "outputs": [
        {
          "output_type": "stream",
          "text": [
            "/usr/local/lib/python3.6/dist-packages/sklearn/svm/_base.py:947: ConvergenceWarning: Liblinear failed to converge, increase the number of iterations.\n",
            "  \"the number of iterations.\", ConvergenceWarning)\n"
          ],
          "name": "stderr"
        },
        {
          "output_type": "execute_result",
          "data": {
            "text/plain": [
              "0.6923076923076923"
            ]
          },
          "metadata": {
            "tags": []
          },
          "execution_count": 97
        }
      ]
    },
    {
      "cell_type": "code",
      "metadata": {
        "id": "d_iRk4_ziPAc"
      },
      "source": [
        "#sex\r\n",
        "from sklearn import svm\r\n",
        "clf = svm.SVR( kernel='precomputed') #kernel='rbf'  kernel='precomputed' kernel='linear'\r\n",
        "clf.fit(x_train, y_train)\r\n",
        "y_pred = clf.predict(x_test)\r\n",
        "from sklearn import metrics\r\n",
        "metrics.accuracy_score(y_test, y_pred )"
      ],
      "execution_count": null,
      "outputs": []
    },
    {
      "cell_type": "code",
      "metadata": {
        "id": "BgEYJm3PktA-"
      },
      "source": [
        "X = x_train\r\n",
        "Y = y_train"
      ],
      "execution_count": null,
      "outputs": []
    },
    {
      "cell_type": "code",
      "metadata": {
        "colab": {
          "base_uri": "https://localhost:8080/"
        },
        "id": "FpxZzhPjiWt1",
        "outputId": "f865436b-149e-4750-bba4-da5462d82559"
      },
      "source": [
        "def my_kernel(X, Y):\r\n",
        "  return np.dot(X, Y.T)\r\n",
        "\r\n",
        "from sklearn import svm\r\n",
        "clf = svm.LinearSVC() \r\n",
        "clf.fit(x_train, y_train)\r\n",
        "y_pred = clf.predict(x_test)\r\n",
        "from sklearn import metrics\r\n",
        "metrics.accuracy_score(y_test, y_pred )\r\n",
        "\r\n"
      ],
      "execution_count": null,
      "outputs": [
        {
          "output_type": "stream",
          "text": [
            "/usr/local/lib/python3.6/dist-packages/sklearn/svm/_base.py:947: ConvergenceWarning: Liblinear failed to converge, increase the number of iterations.\n",
            "  \"the number of iterations.\", ConvergenceWarning)\n"
          ],
          "name": "stderr"
        },
        {
          "output_type": "execute_result",
          "data": {
            "text/plain": [
              "0.6923076923076923"
            ]
          },
          "metadata": {
            "tags": []
          },
          "execution_count": 102
        }
      ]
    },
    {
      "cell_type": "code",
      "metadata": {
        "colab": {
          "base_uri": "https://localhost:8080/"
        },
        "id": "CEOqANk5knjn",
        "outputId": "e97589ee-cb32-4d15-edac-c36236b6cd14"
      },
      "source": [
        "\r\n",
        "from sklearn.linear_model import SGDClassifier\r\n",
        "clf = SGDClassifier(loss=\"modified_huber\", penalty=\"l2\", max_iter=5)#modified_huber  hinge log\r\n",
        "clf.fit(X, Y)                                 # l2  l1 elasticnet\r\n",
        "y_pred = clf.predict(x_test)\r\n",
        "from sklearn import metrics\r\n",
        "metrics.accuracy_score(y_test, y_pred )\r\n",
        "\r\n"
      ],
      "execution_count": null,
      "outputs": [
        {
          "output_type": "stream",
          "text": [
            "/usr/local/lib/python3.6/dist-packages/sklearn/linear_model/_stochastic_gradient.py:557: ConvergenceWarning: Maximum number of iteration reached before convergence. Consider increasing max_iter to improve the fit.\n",
            "  ConvergenceWarning)\n"
          ],
          "name": "stderr"
        },
        {
          "output_type": "execute_result",
          "data": {
            "text/plain": [
              "0.6794871794871795"
            ]
          },
          "metadata": {
            "tags": []
          },
          "execution_count": 104
        }
      ]
    },
    {
      "cell_type": "markdown",
      "metadata": {
        "id": "Zptcr09htZox"
      },
      "source": [
        "# tsts"
      ]
    },
    {
      "cell_type": "code",
      "metadata": {
        "id": "xOAqWNF5_nY-"
      },
      "source": [
        "frames  = []\r\n",
        "for ky in dep_df.keys():\r\n",
        "  f = pd.DataFrame(dep_df[ky]).T\r\n",
        "  frames.append(f)"
      ],
      "execution_count": null,
      "outputs": []
    }
  ]
}